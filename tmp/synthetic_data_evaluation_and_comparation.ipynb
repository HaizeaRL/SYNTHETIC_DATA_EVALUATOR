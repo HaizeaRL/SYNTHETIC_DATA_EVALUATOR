{
 "cells": [
  {
   "cell_type": "markdown",
   "metadata": {},
   "source": [
    "# SYNTHETIC DATA EVALUATION\n",
    "\n",
    "## LOAD REAL & BOTH SYNTH DATA"
   ]
  },
  {
   "cell_type": "code",
   "execution_count": null,
   "metadata": {},
   "outputs": [],
   "source": [
    "# import packages\n",
    "import pandas as pd\n",
    "import os\n",
    "\n",
    "# load real data from uci repository\n",
    "from ucimlrepo import fetch_ucirepo \n",
    "\n",
    "'''# metadata \n",
    "print(diabetes_130_us_hospitals_for_years_1999_2008.metadata) \n",
    "  \n",
    "# variable information \n",
    "print(diabetes_130_us_hospitals_for_years_1999_2008.variables) '''\n",
    "  \n",
    "# fetch dataset \n",
    "diabetes_130_us_hospitals_for_years_1999_2008 = fetch_ucirepo(id=296) \n",
    "  \n",
    "# data (as pandas dataframes) \n",
    "X = diabetes_130_us_hospitals_for_years_1999_2008.data.features \n",
    "y = diabetes_130_us_hospitals_for_years_1999_2008.data.targets \n",
    "\n",
    "# create complete real_data\n",
    "real = pd.DataFrame(X)\n",
    "real[\"readmitted\"] = y\n",
    "\n",
    "# visualize data\n",
    "real.head()"
   ]
  },
  {
   "cell_type": "code",
   "execution_count": null,
   "metadata": {},
   "outputs": [],
   "source": [
    "# load mostly.ai synth\n",
    "mostly = pd.read_parquet(\"./synthetic_data/mostly_ai_synth.parquet\", engine =\"pyarrow\")\n",
    "\n",
    "# read data\n",
    "mostly.head()"
   ]
  },
  {
   "cell_type": "code",
   "execution_count": null,
   "metadata": {},
   "outputs": [],
   "source": [
    "# load sdv synth\n",
    "sdv = pd.read_parquet(\"./synthetic_data/sdv_synth.parquet\", engine =\"pyarrow\")\n",
    "\n",
    "# read data\n",
    "sdv.head()"
   ]
  },
  {
   "cell_type": "markdown",
   "metadata": {},
   "source": [
    "## EXPLORE SYNTHETIC DATA VS REAL DATA\n",
    "\n",
    "### Categorical data "
   ]
  },
  {
   "cell_type": "code",
   "execution_count": null,
   "metadata": {},
   "outputs": [],
   "source": [
    "import matplotlib.pyplot as plt\n",
    "import seaborn as sns\n",
    "\n",
    "# Select categorical columns\n",
    "categorical_cols = real.select_dtypes(include='object')\n",
    "\n",
    "for col in categorical_cols:\n",
    "    fig, ax = plt.subplots(1, 2, figsize=(10, 5))\n",
    "    \n",
    "    # Get unique values for the x-axis from the real data\n",
    "    x_ticks = real[col].value_counts().index\n",
    "    \n",
    "    # Plot real data\n",
    "    sns.countplot(data=real, x=col, ax=ax[0])\n",
    "    ax[0].set_title(col + \" _REAL\")\n",
    "    ax[0].set_xticklabels(ax[0].get_xticklabels(), rotation=45, ha='right')\n",
    "    \n",
    "    # Plot synthetic data\n",
    "    sns.countplot(data=sdv, x=col, ax=ax[1])\n",
    "    ax[1].set_title(col + \" _SDV(synth)\")\n",
    "    ax[1].set_xticklabels(ax[1].get_xticklabels(), rotation=45, ha='right')\n",
    "\n",
    "    # Calculate the maximum y-value from both plots\n",
    "    max_y = max(real[col].value_counts().max(), mostly[col].value_counts().max())\n",
    "    \n",
    "    # Set y-axis limits for both plots\n",
    "    ax[0].set_ylim(0, max_y)\n",
    "    ax[1].set_ylim(0, max_y)\n",
    "    \n",
    "    # Set x-axis ticks for both plots to ensure they match\n",
    "    ax[0].set_xticks(range(len(x_ticks)))\n",
    "    ax[0].set_xticklabels(x_ticks, rotation=45, ha='right')\n",
    "    \n",
    "    ax[1].set_xticks(range(len(x_ticks)))\n",
    "    ax[1].set_xticklabels(x_ticks, rotation=45, ha='right')\n",
    "\n",
    "    plt.tight_layout()\n",
    "    plt.show()"
   ]
  },
  {
   "cell_type": "code",
   "execution_count": null,
   "metadata": {},
   "outputs": [],
   "source": [
    "import matplotlib.pyplot as plt\n",
    "import seaborn as sns\n",
    "\n",
    "# Select categorical columns\n",
    "categorical_cols = real.select_dtypes(include='object')\n",
    "\n",
    "for col in categorical_cols:\n",
    "    fig, ax = plt.subplots(1, 2, figsize=(10, 5))\n",
    "    \n",
    "    # Get unique values for the x-axis from the real data\n",
    "    x_ticks = real[col].value_counts().index\n",
    "    \n",
    "    # Plot real data\n",
    "    sns.countplot(data=real, x=col, ax=ax[0])\n",
    "    ax[0].set_title(col + \" _REAL\")\n",
    "    ax[0].set_xticklabels(ax[0].get_xticklabels(), rotation=45, ha='right')\n",
    "    \n",
    "    # Plot synthetic data\n",
    "    sns.countplot(data=mostly, x=col, ax=ax[1])\n",
    "    ax[1].set_title(col + \" _MOSTLY(synth)\")\n",
    "    ax[1].set_xticklabels(ax[1].get_xticklabels(), rotation=45, ha='right')\n",
    "\n",
    "    # Calculate the maximum y-value from both plots\n",
    "    max_y = max(real[col].value_counts().max(), mostly[col].value_counts().max())\n",
    "    \n",
    "    # Set y-axis limits for both plots\n",
    "    ax[0].set_ylim(0, max_y)\n",
    "    ax[1].set_ylim(0, max_y)\n",
    "    \n",
    "    # Set x-axis ticks for both plots to ensure they match\n",
    "    ax[0].set_xticks(range(len(x_ticks)))\n",
    "    ax[0].set_xticklabels(x_ticks, rotation=45, ha='right')\n",
    "    \n",
    "    ax[1].set_xticks(range(len(x_ticks)))\n",
    "    ax[1].set_xticklabels(x_ticks, rotation=45, ha='right')\n",
    "\n",
    "    plt.tight_layout()\n",
    "    plt.show()"
   ]
  },
  {
   "cell_type": "markdown",
   "metadata": {},
   "source": [
    "### Numerical data "
   ]
  },
  {
   "cell_type": "code",
   "execution_count": null,
   "metadata": {},
   "outputs": [],
   "source": [
    "import matplotlib.pyplot as plt\n",
    "import seaborn as sns\n",
    "import numpy as np\n",
    "\n",
    "# continuos columns\n",
    "continuos_columns = real.select_dtypes(include='int64')\n",
    "\n",
    "for col in continuos_columns:\n",
    "    fig, ax = plt.subplots(1, 2, figsize=(10, 5))\n",
    "    \n",
    "    # Determine the x-axis range\n",
    "    all_data = np.concatenate([real[col].values, mostly[col].values])\n",
    "    x_min, x_max = all_data.min(), all_data.max()\n",
    "    \n",
    "    # Plot KDE for real data\n",
    "    sns.kdeplot(data=real, x=col, ax=ax[0], fill=True)\n",
    "    ax[0].set_title(col + \" _REAL\")\n",
    "    ax[0].set_xlim(x_min, x_max)\n",
    "    \n",
    "    # Plot KDE for synthetic data\n",
    "    sns.kdeplot(data=sdv, x=col, ax=ax[1], fill=True)\n",
    "    ax[1].set_title(col + \" _SDV (synth)\")\n",
    "    ax[1].set_xlim(x_min, x_max)\n",
    "    \n",
    "    # Add margins to x-axis\n",
    "    margin = 0.1 * (x_max - x_min)\n",
    "    ax[0].set_xlim(x_min - margin, x_max + margin)\n",
    "    ax[1].set_xlim(x_min - margin, x_max + margin)\n",
    "    \n",
    "    plt.tight_layout()\n",
    "    plt.show()"
   ]
  }
 ],
 "metadata": {
  "kernelspec": {
   "display_name": "synth_data",
   "language": "python",
   "name": "python3"
  },
  "language_info": {
   "codemirror_mode": {
    "name": "ipython",
    "version": 3
   },
   "file_extension": ".py",
   "mimetype": "text/x-python",
   "name": "python",
   "nbconvert_exporter": "python",
   "pygments_lexer": "ipython3",
   "version": "3.7.16"
  }
 },
 "nbformat": 4,
 "nbformat_minor": 2
}
